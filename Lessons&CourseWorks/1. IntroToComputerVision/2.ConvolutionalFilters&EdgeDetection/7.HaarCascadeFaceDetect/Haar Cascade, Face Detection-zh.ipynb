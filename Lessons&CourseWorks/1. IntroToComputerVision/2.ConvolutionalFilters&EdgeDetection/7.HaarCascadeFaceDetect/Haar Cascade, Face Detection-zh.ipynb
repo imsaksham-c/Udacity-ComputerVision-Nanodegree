{
 "cells": [
  {
   "cell_type": "markdown",
   "metadata": {},
   "source": [
    "## 使用OpenCV进行人脸检测\n",
    "\n",
    "人脸检测的方法之一是使用Haar级联分类器，这个方法虽然不够新颖，但依然很流行。OpenCV库中的这些分类器，使用基于特征的分类级联，能够学习隔离和检测图像中的人脸。这种方法最早出现于2001年左右，你可以在这里阅读 [提出这种方法的原始论文](https://www.cs.cmu.edu/~efros/courses/LBMV07/Papers/viola-cvpr-01.pdf)。\n",
    "\n",
    "在这个notebook中，让我们来看看人脸检测的工作原理。"
   ]
  },
  {
   "cell_type": "code",
   "execution_count": null,
   "metadata": {},
   "outputs": [],
   "source": [
    "# import required libraries for this section\n",
    "%matplotlib inline\n",
    "import numpy as np\n",
    "import matplotlib.pyplot as plt\n",
    "import cv2                     "
   ]
  },
  {
   "cell_type": "code",
   "execution_count": null,
   "metadata": {},
   "outputs": [],
   "source": [
    "# load in color image for face detection\n",
    "image = cv2.imread('images/multi_faces.jpg')\n",
    "\n",
    "# convert to RBG\n",
    "image = cv2.cvtColor(image, cv2.COLOR_BGR2RGB)\n",
    "\n",
    "plt.figure(figsize=(20,10))\n",
    "plt.imshow(image)"
   ]
  },
  {
   "cell_type": "markdown",
   "metadata": {},
   "source": [
    "要使用人脸检测器，首先需要将图像从彩色转换为灰度。对于人脸检测，这是完全可以做到的，因为在人脸中有足够的非颜色特定结构供我们的检测器学习。"
   ]
  },
  {
   "cell_type": "code",
   "execution_count": null,
   "metadata": {},
   "outputs": [],
   "source": [
    "# convert to grayscale\n",
    "gray = cv2.cvtColor(image, cv2.COLOR_BGR2GRAY)  \n",
    "\n",
    "plt.figure(figsize=(20,10))\n",
    "plt.imshow(gray, cmap='gray')"
   ]
  },
  {
   "cell_type": "markdown",
   "metadata": {},
   "source": [
    "接下来，要加载人脸检测器的已经过完全训练的架构，你可以在文件`detector_architectures/ haarcascade_frontalface_default.xml`中找到它，并在我们的图像上使用它来查找人脸！\n",
    "\n",
    "**关于参数的说明** \n",
    "\n",
    "会检测到多少个人脸，这是由函数`detectMultiScale`决定的，该函数用于检测不同大小的人脸。该函数的输入参数包括：`(image, scaleFactor, minNeighbors)`。你会经常检测到更多具有较小scaleFactor以及较低的minNeighbors值的人脸，但增加这些值通常会产生更好的匹配结果。因此，你可以根据输入图像修改这些值。"
   ]
  },
  {
   "cell_type": "code",
   "execution_count": null,
   "metadata": {},
   "outputs": [],
   "source": [
    "# load in cascade classifier\n",
    "face_cascade = cv2.CascadeClassifier('detector_architectures/haarcascade_frontalface_default.xml')\n",
    "\n",
    "# run the detector on the grayscale image\n",
    "faces = face_cascade.detectMultiScale(gray, 4, 6)"
   ]
  },
  {
   "cell_type": "markdown",
   "metadata": {},
   "source": [
    "分类器的输出是一个检测数组，该数组用于定义每个人脸周围边界框尺寸的坐标。请注意，输出的始终都是一个方形的方框。"
   ]
  },
  {
   "cell_type": "code",
   "execution_count": null,
   "metadata": {},
   "outputs": [],
   "source": [
    "# print out the detections found\n",
    "print ('We found ' + str(len(faces)) + ' faces in this image')\n",
    "print (\"Their coordinates and lengths/widths are as follows\")\n",
    "print ('=============================')\n",
    "print (faces)"
   ]
  },
  {
   "cell_type": "markdown",
   "metadata": {},
   "source": [
    "让我们在原始图像上绘出相应的检测框，看看检测的效果如何。"
   ]
  },
  {
   "cell_type": "code",
   "execution_count": null,
   "metadata": {},
   "outputs": [],
   "source": [
    "img_with_detections = np.copy(image)   # make a copy of the original image to plot rectangle detections ontop of\n",
    "\n",
    "# loop over our detections and draw their corresponding boxes on top of our original image\n",
    "for (x,y,w,h) in faces:\n",
    "    # draw next detection as a red rectangle on top of the original image.  \n",
    "    # Note: the fourth element (255,0,0) determines the color of the rectangle, \n",
    "    # and the final argument (here set to 5) determines the width of the drawn rectangle\n",
    "    cv2.rectangle(img_with_detections,(x,y),(x+w,y+h),(255,0,0),5)  \n",
    "\n",
    "# display the result\n",
    "plt.figure(figsize=(20,10))\n",
    "plt.imshow(img_with_detections)"
   ]
  }
 ],
 "metadata": {},
 "nbformat": 4,
 "nbformat_minor": 2
}
