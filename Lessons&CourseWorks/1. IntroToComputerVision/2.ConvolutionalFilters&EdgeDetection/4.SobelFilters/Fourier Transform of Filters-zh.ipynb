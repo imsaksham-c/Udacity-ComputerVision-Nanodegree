{
 "cells": [
  {
   "cell_type": "markdown",
   "metadata": {},
   "source": [
    "## 高通和低通滤波器\n",
    "\n",
    "现在，你可能想知道，使滤波器高或低通过率的因素是什么？为什么Sobel滤波器属于高通滤波器，而高斯滤波器属于低通滤波器？\n",
    "\n",
    "其实，你可以通过查看其傅里叶变换来将这些滤波器阻挡的频率可视化。在进行傅立叶变换（FT）之后，可以显示出任何图像的频率分量。 FT会查看图像的组成部分（高频边缘和低频的平滑颜色区域），并将频谱中出现的频率可视化。所以，接下来，让我们将滤波器视为一个个小图像，并在频域中把它们出来吧！"
   ]
  },
  {
   "cell_type": "code",
   "execution_count": null,
   "metadata": {},
   "outputs": [],
   "source": [
    "import numpy as np\n",
    "import matplotlib.pyplot as plt\n",
    "import cv2\n",
    "\n",
    "%matplotlib inline\n",
    "\n",
    "# Define gaussian, sobel, and laplacian (edge) filters\n",
    "\n",
    "gaussian = (1/9)*np.array([[1, 1, 1],\n",
    "                           [1, 1, 1],\n",
    "                           [1, 1, 1]])\n",
    "\n",
    "sobel_x= np.array([[-1, 0, 1],\n",
    "                   [-2, 0, 2],\n",
    "                   [-1, 0, 1]])\n",
    "\n",
    "sobel_y= np.array([[-1,-2,-1],\n",
    "                   [0, 0, 0],\n",
    "                   [1, 2, 1]])\n",
    "\n",
    "# laplacian, edge filter\n",
    "laplacian=np.array([[0, 1, 0],\n",
    "                    [1,-4, 1],\n",
    "                    [0, 1, 0]])\n",
    "\n",
    "filters = [gaussian, sobel_x, sobel_y, laplacian]\n",
    "filter_name = ['gaussian','sobel_x', \\\n",
    "                'sobel_y', 'laplacian']\n",
    "\n",
    "\n",
    "# perform a fast fourier transform on each filter\n",
    "# and create a scaled, frequency transform image\n",
    "f_filters = [np.fft.fft2(x) for x in filters]\n",
    "fshift = [np.fft.fftshift(y) for y in f_filters]\n",
    "frequency_tx = [np.log(np.abs(z)+1) for z in fshift]\n",
    "\n",
    "# display 4 filters\n",
    "for i in range(len(filters)):\n",
    "    plt.subplot(2,2,i+1),plt.imshow(frequency_tx[i],cmap = 'gray')\n",
    "    plt.title(filter_name[i]), plt.xticks([]), plt.yticks([])\n",
    "\n",
    "plt.show()"
   ]
  },
  {
   "cell_type": "markdown",
   "metadata": {},
   "source": [
    "白色或浅灰色的区域，表示可以让频谱的那部分通过！而黑色区域意味着部分光谱被阻挡在了图像之外。\n",
    "\n",
    "回想一下，频谱中的低频位于频率变换图像的中心，而高频位于边缘。你应该看到高斯滤波器仅允许低通频率，这是频率变换图像的中心。Sobel滤波器可阻挡特定方向的频率；而所有边缘，无论方向如何，拉普拉斯滤波器都可以阻挡低频部分！\n",
    "\n",
    "在这里，我们建议你加载一张图像，使用`filter2d`对其应用一个滤波器，然后在应用该滤波器之前和之后，将该图像的傅里叶变换可视化。"
   ]
  },
  {
   "cell_type": "code",
   "execution_count": null,
   "metadata": {},
   "outputs": [],
   "source": [
    "## TODO: load in an image, and filter it using a kernel of your choice\n",
    "## apply a fourier transform to the original *and* filtered images and compare them\n"
   ]
  }
 ],
 "metadata": {},
 "nbformat": 4,
 "nbformat_minor": 2
}
