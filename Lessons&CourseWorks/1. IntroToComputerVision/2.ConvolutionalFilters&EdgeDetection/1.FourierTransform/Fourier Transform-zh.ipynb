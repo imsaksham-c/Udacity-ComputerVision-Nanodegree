{
 "cells": [
  {
   "cell_type": "markdown",
   "metadata": {},
   "source": [
    "## 傅立叶变换\n",
    "\n",
    "进行傅立叶变换（FT）之后，就可以显示出任何图像的频率分量。 FT会查看图像的组成部分（高频边缘和低频的平滑颜色区域），并将频谱中出现的频率可视化。\n",
    "\n",
    "实际上，FT将图像中的强度模式视为具有特定频率的正弦波，你可以在 [此页面上](https://plus.maths.org/content/fourier-transforms-images)查看这些正弦波分量的可视化图。\n",
    "\n",
    "在这个notebook中，我们首先会看一些简单的图像模式，了解图像频率分量是什么样子的，然后转换一张更复杂的图像，看看它在频域中的样子。"
   ]
  },
  {
   "cell_type": "code",
   "execution_count": null,
   "metadata": {},
   "outputs": [],
   "source": [
    "import numpy as np\n",
    "import matplotlib.pyplot as plt\n",
    "import cv2\n",
    "\n",
    "%matplotlib inline\n",
    "\n",
    "# Read in the images\n",
    "image_stripes = cv2.imread('images/stripes.jpg')\n",
    "# Change color to RGB (from BGR)\n",
    "image_stripes = cv2.cvtColor(image_stripes, cv2.COLOR_BGR2RGB)\n",
    "\n",
    "# Read in the images\n",
    "image_solid = cv2.imread('images/pink_solid.jpg')\n",
    "# Change color to RGB (from BGR)\n",
    "image_solid = cv2.cvtColor(image_solid, cv2.COLOR_BGR2RGB)\n",
    "\n",
    "\n",
    "# Display the images\n",
    "f, (ax1,ax2) = plt.subplots(1, 2, figsize=(10,5))\n",
    "\n",
    "ax1.imshow(image_stripes)\n",
    "ax2.imshow(image_solid)"
   ]
  },
  {
   "cell_type": "code",
   "execution_count": null,
   "metadata": {},
   "outputs": [],
   "source": [
    "# convert to grayscale to focus on the intensity patterns in the image\n",
    "gray_stripes = cv2.cvtColor(image_stripes, cv2.COLOR_RGB2GRAY)\n",
    "gray_solid = cv2.cvtColor(image_solid, cv2.COLOR_RGB2GRAY)\n",
    "\n",
    "# normalize the image color values from a range of [0,255] to [0,1] for further processing\n",
    "norm_stripes = gray_stripes/255.0\n",
    "norm_solid = gray_solid/255.0\n",
    "\n",
    "# perform a fast fourier transform and create a scaled, frequency transform image\n",
    "def ft_image(norm_image):\n",
    "    '''This function takes in a normalized, grayscale image\n",
    "       and returns a frequency spectrum transform of that image. '''\n",
    "    f = np.fft.fft2(norm_image)\n",
    "    fshift = np.fft.fftshift(f)\n",
    "    frequency_tx = 20*np.log(np.abs(fshift))\n",
    "    \n",
    "    return frequency_tx\n"
   ]
  },
  {
   "cell_type": "code",
   "execution_count": null,
   "metadata": {},
   "outputs": [],
   "source": [
    "# Call the function on the normalized images\n",
    "# and display the transforms\n",
    "f_stripes = ft_image(norm_stripes)\n",
    "f_solid = ft_image(norm_solid)\n",
    "\n",
    "# display the images\n",
    "# original images to the left of their frequency transform\n",
    "f, (ax1,ax2,ax3,ax4) = plt.subplots(1, 4, figsize=(20,10))\n",
    "\n",
    "ax1.set_title('original image')\n",
    "ax1.imshow(image_stripes)\n",
    "ax2.set_title('frequency transform image')\n",
    "ax2.imshow(f_stripes, cmap='gray')\n",
    "\n",
    "ax3.set_title('original image')\n",
    "ax3.imshow(image_solid)\n",
    "ax4.set_title('frequency transform image')\n",
    "ax4.imshow(f_solid, cmap='gray')\n"
   ]
  },
  {
   "cell_type": "markdown",
   "metadata": {},
   "source": [
    "低频位于频率变换图像的中心。\n",
    "\n",
    " 这些示例的变换图像显示，实心图像具有大多数低频分量，如中心亮点所示。\n",
    "\n",
    "条纹转换图像包含白色和黑色区域的低频以及这些颜色之间的边缘的高频。条纹变换图像也告诉我们这些频率有一个主导方向，而且垂直条纹由穿过频率变换图像中心的水平线表示。\n",
    "\n",
    "接下来，让我们看看把它应用于真实世界的图像，会出现怎样的情况。"
   ]
  },
  {
   "cell_type": "code",
   "execution_count": null,
   "metadata": {},
   "outputs": [],
   "source": [
    "# Read in an image\n",
    "image = cv2.imread('images/birds.jpg')\n",
    "# Change color to RGB (from BGR)\n",
    "image = cv2.cvtColor(image, cv2.COLOR_BGR2RGB)\n",
    "\n",
    "# convert to grayscale\n",
    "gray = cv2.cvtColor(image, cv2.COLOR_RGB2GRAY)\n",
    "# normalize the image\n",
    "norm_image = gray/255.0\n",
    "\n",
    "f_image = ft_image(norm_image)\n",
    "\n",
    "# Display the images\n",
    "f, (ax1,ax2) = plt.subplots(1, 2, figsize=(20,10))\n",
    "\n",
    "ax1.imshow(image)\n",
    "ax2.imshow(f_image, cmap='gray')"
   ]
  },
  {
   "cell_type": "markdown",
   "metadata": {},
   "source": [
    "请注意，此图像包含所有频率的分量。你可以在变换图像的中心看到一个亮点，它告诉我们，该图像的很大一部分是低频的。这一点没有问题，因为鸟类和背景的身体都是纯色。变换图像还告诉我们，这些频率有**两个**主导方向，其中，垂直边缘（鸟的边缘）由穿过频率变换图像中心的水平线表示，而水平边缘（树枝和鸟头的顶部）由穿过中心的垂直线表示。"
   ]
  }
 ],
 "metadata": {},
 "nbformat": 4,
 "nbformat_minor": 2
}
