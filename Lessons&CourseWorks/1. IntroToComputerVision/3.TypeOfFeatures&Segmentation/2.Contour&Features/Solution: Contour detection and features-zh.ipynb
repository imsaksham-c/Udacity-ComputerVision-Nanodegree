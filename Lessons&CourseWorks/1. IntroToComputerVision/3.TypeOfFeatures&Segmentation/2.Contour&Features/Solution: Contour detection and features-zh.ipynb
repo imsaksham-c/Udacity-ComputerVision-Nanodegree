{
 "cells": [
  {
   "cell_type": "markdown",
   "metadata": {},
   "source": [
    "# 寻找轮廓\n",
    "\n",
    "### 导入资源并显示图像"
   ]
  },
  {
   "cell_type": "code",
   "execution_count": null,
   "metadata": {},
   "outputs": [],
   "source": [
    "import numpy as np\n",
    "import matplotlib.pyplot as plt\n",
    "import cv2\n",
    "\n",
    "%matplotlib inline\n",
    "\n",
    "# Read in the image\n",
    "image = cv2.imread('images/thumbs_up_down.jpg')\n",
    "\n",
    "# Change color to RGB (from BGR)\n",
    "image = cv2.cvtColor(image, cv2.COLOR_BGR2RGB)\n",
    "\n",
    "plt.imshow(image)"
   ]
  },
  {
   "cell_type": "code",
   "execution_count": null,
   "metadata": {},
   "outputs": [],
   "source": [
    "<matplotlib.image.AxesImage at 0x117e5a6d8>\n",
    "\n",
    "\n"
   ]
  },
  {
   "cell_type": "markdown",
   "metadata": {},
   "source": [
    "![png](output_2_1.png)\n",
    "\n",
    "\n",
    "### 生成一个用于查找轮廓的二值图像"
   ]
  },
  {
   "cell_type": "code",
   "execution_count": null,
   "metadata": {},
   "outputs": [],
   "source": [
    "# Convert to grayscale\n",
    "gray = cv2.cvtColor(image,cv2.COLOR_RGB2GRAY)\n",
    "\n",
    "# Create a binary thresholded image\n",
    "retval, binary = cv2.threshold(gray, 225, 255, cv2.THRESH_BINARY_INV)\n",
    "\n",
    "plt.imshow(binary, cmap='gray')\n"
   ]
  },
  {
   "cell_type": "code",
   "execution_count": null,
   "metadata": {},
   "outputs": [],
   "source": [
    "<matplotlib.image.AxesImage at 0x11a0ed898>\n",
    "\n",
    "\n"
   ]
  },
  {
   "cell_type": "markdown",
   "metadata": {},
   "source": [
    "![png](output_4_1.png)\n",
    "\n",
    "\n",
    "### 查找并绘出轮廓"
   ]
  },
  {
   "cell_type": "code",
   "execution_count": null,
   "metadata": {},
   "outputs": [],
   "source": [
    "# Find contours from thresholded, binary image\n",
    "retval, contours, hierarchy = cv2.findContours(binary, cv2.RETR_TREE, cv2.CHAIN_APPROX_SIMPLE)\n",
    "\n",
    "# Draw all contours on a copy of the original image\n",
    "contours_image = np.copy(image)\n",
    "contours_image = cv2.drawContours(contours_image, contours, -1, (0,255,0), 3)\n",
    "\n",
    "plt.imshow(contours_image)"
   ]
  },
  {
   "cell_type": "code",
   "execution_count": null,
   "metadata": {},
   "outputs": [],
   "source": [
    "<matplotlib.image.AxesImage at 0x11a2b2a58>\n",
    "\n",
    "\n"
   ]
  },
  {
   "cell_type": "markdown",
   "metadata": {},
   "source": [
    "![png](output_6_1.png)\n",
    "\n",
    "\n",
    "## 轮廓特征\n",
    "\n",
    "每个轮廓都有许多可以计算的特征，包括轮廓的面积、方向（即大部分轮廓指向的方向）、周长以及 [OpenCV文档中](http://opencv-python-tutroals.readthedocs.io/en/latest/py_tutorials/py_imgproc/py_contours/py_contour_properties/py_contour_properties.html)概述的许多其他属性。\n",
    "\n",
    "在下一个单元格中，你需要识别左手和右手轮廓的方向。这些方向可以让你知道哪只手的拇指向上，哪只手的拇指朝下！\n",
    "\n",
    "### 方向\n",
    "\n",
    "一个对象的方向是指该对象所指向的角度。要找到轮廓的角度，首先应找到与该轮廓拟合的椭圆，然后从该椭圆中提取`angle`。"
   ]
  },
  {
   "cell_type": "code",
   "execution_count": null,
   "metadata": {},
   "outputs": [],
   "source": [
    "# Fit an ellipse to a contour and extract the angle from that ellipse\n",
    "(x,y), (MA,ma), angle = cv2.fitEllipse(selected_contour)"
   ]
  },
  {
   "cell_type": "markdown",
   "metadata": {},
   "source": [
    "**方向值**\n",
    "\n",
    "这些方向值以度为单位，从x轴测量。值为零表示平直线，值为90表示该轮廓指向竖直方向！\n",
    "\n",
    "因此，你为每个轮廓计算的方向角度都应该能够告诉我们关于手掌大概位置的信息。拇指向上的手应该比拇指向下的手角度更高（接近90度）。\n",
    "\n",
    "### TODO: 找到每个轮廓的方向"
   ]
  },
  {
   "cell_type": "code",
   "execution_count": null,
   "metadata": {},
   "outputs": [],
   "source": [
    "## TODO: Complete this function so that \n",
    "## it returns the orientations of a list of contours\n",
    "## The list should be in the same order as the contours\n",
    "## i.e. the first angle should be the orientation of the first contour\n",
    "def orientations(contours):\n",
    "    \"\"\"\n",
    "    Orientation \n",
    "    :param contours: a list of contours\n",
    "    :return: angles, the orientations of the contours\n",
    "    \"\"\"\n",
    "    \n",
    "    # Create an empty list to store the angles in\n",
    "    # Tip: Use angles.append(value) to add values to this list\n",
    "    angles = []\n",
    "    \n",
    "    for cnt in contours:\n",
    "        # Fit an ellipse to a contour and extract the angle from that ellipse\n",
    "        (x,y), (MA,ma), angle = cv2.fitEllipse(cnt)\n",
    "        angles.append(angle)\n",
    "        \n",
    "    return angles\n",
    "\n",
    "\n",
    "# ---------------------------------------------------------- #\n",
    "# Print out the orientation values\n",
    "angles = orientations(contours)\n",
    "print('Angles of each contour (in degrees): ' + str(angles))"
   ]
  },
  {
   "cell_type": "code",
   "execution_count": null,
   "metadata": {},
   "outputs": [],
   "source": [
    "Angles of each contour (in degrees): [61.274147033691406, 84.45772552490234]\n"
   ]
  },
  {
   "cell_type": "markdown",
   "metadata": {},
   "source": [
    "### 边界矩形\n",
    "\n",
    "在下一个单元格中，你需要找到*左* 手轮廓周围的边界矩形，其中，该手的拇指向上。然后，使用该边界矩形裁剪图像，之后找到那一只手轮廓周围的边界矩形！"
   ]
  },
  {
   "cell_type": "code",
   "execution_count": null,
   "metadata": {},
   "outputs": [],
   "source": [
    "# Find the bounding rectangle of a selected contour\n",
    "x,y,w,h = cv2.boundingRect(selected_contour)\n",
    "\n",
    "# Draw the bounding rectangle as a purple box\n",
    "box_image = cv2.rectangle(contours_image, (x,y), (x+w,y+h), (200,0,200),2)"
   ]
  },
  {
   "cell_type": "markdown",
   "metadata": {},
   "source": [
    "要裁剪图像，请选择要包含的图像的正确宽度和高度。"
   ]
  },
  {
   "cell_type": "code",
   "execution_count": null,
   "metadata": {},
   "outputs": [],
   "source": [
    "# Crop using the dimensions of the bounding rectangle (x, y, w, h)\n",
    "cropped_image = image[y: y + h, x: x + w] "
   ]
  },
  {
   "cell_type": "markdown",
   "metadata": {},
   "source": [
    "### TODO: 围绕轮廓裁剪图像"
   ]
  },
  {
   "cell_type": "code",
   "execution_count": null,
   "metadata": {},
   "outputs": [],
   "source": [
    "## TODO: Complete this function so that\n",
    "## it returns a new, cropped version of the original image\n",
    "def left_hand_crop(image, selected_contour):\n",
    "    \"\"\"\n",
    "    Left hand crop \n",
    "    :param image: the original image\n",
    "    :param selectec_contour: the contour that will be used for cropping\n",
    "    :return: cropped_image, the cropped image around the left hand\n",
    "    \"\"\"\n",
    "    \n",
    "    ## TODO: Detect the bounding rectangle of the left hand contour\n",
    "    \n",
    "    ## TODO: Crop the image using the dimensions of the bounding rectangle\n",
    "    # Make a copy of the image to crop\n",
    "    cropped_image = np.copy(image)\n",
    "    \n",
    "    # Find the bounding rectangle of a selected contour\n",
    "    x,y,w,h = cv2.boundingRect(selected_contour)\n",
    "    \n",
    "    # Crop the image using the dimensions of the bounding rectangle\n",
    "    cropped_image = cropped_image[y: y + h, x: x + w]\n",
    "    \n",
    "    return cropped_image\n",
    "\n",
    "\n",
    "## TODO: Select the left hand contour from the list\n",
    "## Replace this value\n",
    "selected_contour = contours[1]\n",
    "\n",
    "\n",
    "# ---------------------------------------------------------- #\n",
    "# If you've selected a contour\n",
    "if(selected_contour is not None):\n",
    "    # Call the crop function with that contour passed in as a parameter\n",
    "    cropped_image = left_hand_crop(image, selected_contour)\n",
    "    plt.imshow(cropped_image)"
   ]
  },
  {
   "cell_type": "markdown",
   "metadata": {},
   "source": [
    "![png](output_11_0.png)"
   ]
  }
 ],
 "metadata": {},
 "nbformat": 4,
 "nbformat_minor": 2
}
